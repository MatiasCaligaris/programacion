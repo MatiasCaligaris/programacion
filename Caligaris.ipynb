{
  "nbformat": 4,
  "nbformat_minor": 0,
  "metadata": {
    "colab": {
      "provenance": []
    },
    "kernelspec": {
      "name": "python3",
      "display_name": "Python 3"
    },
    "language_info": {
      "name": "python"
    }
  },
  "cells": [
    {
      "cell_type": "markdown",
      "source": [
        "CREATE DATABASE Farmacia;\n",
        "\n",
        "USE Farmacia;\n",
        "\n",
        "CREATE TABLE producto (\n",
        "  id INT AUTO_INCREMENT PRIMARY KEY,\n",
        "  Nombre VARCHAR(255)NOT NULL,\n",
        "  Precio DECIMAL(10,5)NOT NULL,\n",
        "  Descripcion TEXT,\n",
        "  Stock INT NOT NULL\n",
        ");\n",
        "\n",
        "CREATE TABLE Cliente (\n",
        "  id INT AUTO_INCREMENT PRIMARY KEY,\n",
        "  Nombre VARCHAR(255) NOT NULL,\n",
        "  Direccion VARCHAR(255) NOT NULL,\n",
        "  Telefono TEXT NOT NULL\n",
        ");\n",
        "\n",
        "CREATE TABLE Empleados (\n",
        "  id INT AUTO_INCREMENT PRIMARY KEY,\n",
        "  Nombre VARCHAR(255) NOT NULL,\n",
        "  Puesto VARCHAR(255) NOT NULL,\n",
        "  Salario DECIMAL(10,5) NOT NULL\n",
        ");\n",
        "\n",
        "CREATE TABLE ventas (\n",
        "    id INT AUTO_INCREMENT PRIMARY KEY,\n",
        "    cliente_id INT NOT NULL,\n",
        "    empleado_id INT NOT NULL,\n",
        "    producto_id INT NOT NULL,\n",
        "    cantidad INT NOT NULL,\n",
        "    fecha_venta DATETIME NOT NULL\n",
        ");\n",
        "\n",
        "INSERT INTO producto(nombre, descripcion, precio, stock)\n",
        "VALUES\n",
        "('paracetamol', 'apto para dolor de cabeza', '250', '25'),\n",
        "('ibuprofeno', 'sirve para la resaca', '300', '45'),\n",
        "('amoxilina', 'para el dolor de garganta', '700', '100');\n",
        "\n",
        "INSERT INTO cliente(nombre, direccion, telefono)\n",
        "VALUES\n",
        "('Juan Pérez', 'estados unidos 3456', '351 7653245'),\n",
        "('Maria Lopez', 'av, colon 34', '351 4532342');\n",
        "\n",
        "INSERT INTO Empleados(nombre, puesto, salario)\n",
        "VALUES\n",
        "('Carlos García', 'Cajero', '34.500'),\n",
        "('Ana Torres', 'Gerente', '65.300');\n",
        "\n",
        "INSERT INTO ventas (cliente, producto, empleado, cantidad, fecha)\n",
        "VALUES\n",
        "('Juan Pérez', 'amoxilina', 'Ana Torres', '3', '23/12/23'),\n",
        "('Maria Lopez', 'ibuprofeno', 'Carlos Garcia','5', '12/10/23');"
      ],
      "metadata": {
        "id": "Cf892WEAIg_T"
      }
    }
  ]
}